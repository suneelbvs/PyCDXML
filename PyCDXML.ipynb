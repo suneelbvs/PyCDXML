{
 "cells": [
  {
   "cell_type": "markdown",
   "id": "943763ff-8559-4dea-b078-32ba8ebda6b3",
   "metadata": {},
   "source": [
    "## Here is link for pycdxml:\n",
    "###### https://github.com/kienerj/pycdxml"
   ]
  },
  {
   "cell_type": "code",
   "execution_count": 31,
   "id": "27e029c8-f8e6-43b8-97b9-1cbf63d46aa2",
   "metadata": {},
   "outputs": [],
   "source": [
    "#!conda env create -f pycdxml.yml\n",
    "\n",
    "#name: pycdxml\n",
    "#channels:  \n",
    "#  - conda-forge \n",
    "#  - defaults   \n",
    "#dependencies:\n",
    "#  - python>=3.8  \n",
    "#  - rdkit>=2020.09.1 \n",
    "#  - numpy\n",
    "#  - pyyaml\n",
    "#  - lxml\n",
    "#  - fonttools\n",
    "#  - matplotlib\n",
    "#  - pip\n",
    "    \n",
    "#conda activate pycdxml"
   ]
  },
  {
   "cell_type": "markdown",
   "id": "c1c270ec-8c9d-43bc-b87a-fa9e4487a274",
   "metadata": {},
   "source": [
    "## Format Conversions"
   ]
  },
  {
   "cell_type": "code",
   "execution_count": null,
   "id": "5b2d6780-e0d3-42a4-a3ea-ef8beb889f23",
   "metadata": {},
   "outputs": [],
   "source": [
    "from pycdxml import cdxml_converter\n",
    "\n",
    "# cdx to cdxml\n",
    "doc = cdxml_converter.read_cdx('/path/to/structure.cdx')    \n",
    "cdxml_converter.write_cdxml_file(doc, '/path/to/structure.cdxml')\n",
    "\n",
    "#cdxml to base64 encoded cdx\n",
    "doc = cdxml_converter.read_cdxml('/path/to/structure.cdxml')\n",
    "b64 = cdxml_converter.to_b64_cdx(doc)\n",
    "\n",
    "# rdkit to ChemDraw\n",
    "from rdkit import Chem\n",
    "suppl = Chem.SDMolSupplier('/path/to/structures.sdf')\n",
    "cdxmls = []\n",
    "for mol in suppl:     \n",
    "    cdxml = cdxml_converter.mol_to_document(mol)\n",
    "    cdxmls.append(cdxml)"
   ]
  },
  {
   "cell_type": "markdown",
   "id": "d40b87c2-4734-4c54-bde1-cbc58ee8b158",
   "metadata": {},
   "source": [
    "## Slide Generator"
   ]
  },
  {
   "cell_type": "code",
   "execution_count": 32,
   "id": "cc3d5f16-75a7-4efa-abd4-d58d0543f27e",
   "metadata": {},
   "outputs": [],
   "source": [
    "import os\n",
    "from rdkit import Chem\n",
    "from pycdxml import cdxml_slide_generator, cdxml_converter\n",
    "\n",
    "data_dir = os.environ[\"CONDA_PREFIX\"] + \"/Library/share/RDKit/Docs/Book/data\"\n",
    "cdk2_path = data_dir + \"/cdk2.sdf\"\n",
    "suppl = Chem.SDMolSupplier(cdk2_path)\n",
    "cdk2 = [x for x in suppl]\n",
    "\n",
    "cdxmls = []\n",
    "for mol in cdk2:     \n",
    "    cdxml = cdxml_converter.mol_to_document(mol).to_cdxml()\n",
    "    cdxmls.append(cdxml)\n",
    "    \n",
    "all_props = []\n",
    "for mol in cdk2:\n",
    "    props = [cdxml_slide_generator.TextProperty('id', mol.GetProp(\"id\"), color='#3f6eba'), \n",
    "          cdxml_slide_generator.TextProperty('Cluster', mol.GetProp(\"Cluster\"), show_name=True)]\n",
    "    all_props.append(props)\n",
    "\n",
    "sg = cdxml_slide_generator.CDXMLSlideGenerator(number_of_properties=2, columns=5, rows=3)\n",
    "slide = sg.generate_slide(cdxmls, all_props)\n",
    "with open(\"cdk2wStyle.cdxml\", \"w\", encoding='UTF-8') as xf:\n",
    "    xf.write(slide)"
   ]
  },
  {
   "cell_type": "code",
   "execution_count": 28,
   "id": "d899f033-4345-4a10-a417-7cd2b7d971d1",
   "metadata": {},
   "outputs": [],
   "source": [
    "import os\n",
    "from rdkit import Chem\n",
    "from pycdxml import cdxml_slide_generator, cdxml_converter\n",
    "\n",
    "data_dir = os.environ[\"CONDA_PREFIX\"] + \"/Library/share/RDKit/Docs/Book/data\"\n",
    "cdk2_path = data_dir + \"/cdk2.sdf\"\n",
    "suppl = Chem.SDMolSupplier(cdk2_path)\n",
    "cdk2 = [x for x in suppl]\n",
    "\n",
    "cdxmls = []\n",
    "for mol in cdk2:     \n",
    "    cdxml = cdxml_converter.mol_to_document(mol).to_cdxml()\n",
    "    cdxmls.append(cdxml)\n",
    "    \n",
    "all_props = []\n",
    "for mol in cdk2:\n",
    "    props = [cdxml_slide_generator.TextProperty('id', mol.GetProp(\"id\"), color='#3f6eba'), \n",
    "          cdxml_slide_generator.TextProperty('Energy', mol.GetProp(\"r_mmffld_Potential_Energy-OPLS_2005\"), show_name=True)]\n",
    "    all_props.append(props)\n",
    "\n",
    "sg = cdxml_slide_generator.CDXMLSlideGenerator(style=\"ACS 1996\", number_of_properties=2, columns=5, rows=3)\n",
    "slide = sg.generate_slide(cdxmls, all_props)\n",
    "with open(\"cdk2Acs1996.cdxml\", \"w\", encoding='UTF-8') as xf:\n",
    "    xf.write(slide)"
   ]
  },
  {
   "cell_type": "markdown",
   "id": "6828eed9-badf-4815-9871-854addf1a831",
   "metadata": {},
   "source": [
    "## Style Generator"
   ]
  },
  {
   "cell_type": "code",
   "execution_count": 29,
   "id": "9e0252b1-c63c-4afd-b509-0bd8e7fb04e9",
   "metadata": {},
   "outputs": [],
   "source": [
    "from pycdxml import cdxml_styler\n",
    "from pycdxml import cdxml_converter\n",
    "\n",
    "# apply style from an existing file\n",
    "# if outpath is none, input will be overwritten\n",
    "styler = cdxml_styler.CDXMLStyler(style_source=\"ACS 1996.cdxml\")\n",
    "styler.apply_style_to_file('testing.cdxml', outpath='slideACS.cdxml')\n",
    "\n",
    "# apply style to document\n",
    "doc = cdxml_converter.read_cdxml('slideACS.cdxml')\n",
    "styler.apply_style_to_doc(doc)\n",
    "# and now convert to base64 encoded cdx\n",
    "b64 = cdxml_converter.to_b64_cdx(doc)"
   ]
  },
  {
   "cell_type": "code",
   "execution_count": null,
   "id": "e6cc2168-b228-446b-aef7-cc9829187c9d",
   "metadata": {},
   "outputs": [],
   "source": []
  }
 ],
 "metadata": {
  "kernelspec": {
   "display_name": "Python 3 (ipykernel)",
   "language": "python",
   "name": "python3"
  },
  "language_info": {
   "codemirror_mode": {
    "name": "ipython",
    "version": 3
   },
   "file_extension": ".py",
   "mimetype": "text/x-python",
   "name": "python",
   "nbconvert_exporter": "python",
   "pygments_lexer": "ipython3",
   "version": "3.7.11"
  },
  "widgets": {
   "application/vnd.jupyter.widget-state+json": {
    "state": {},
    "version_major": 2,
    "version_minor": 0
   }
  }
 },
 "nbformat": 4,
 "nbformat_minor": 5
}
